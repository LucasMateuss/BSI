{
  "nbformat": 4,
  "nbformat_minor": 0,
  "metadata": {
    "colab": {
      "provenance": [],
      "authorship_tag": "ABX9TyP/GT3ENq/TE45anS34+dVy",
      "include_colab_link": true
    },
    "kernelspec": {
      "name": "python3",
      "display_name": "Python 3"
    },
    "language_info": {
      "name": "python"
    }
  },
  "cells": [
    {
      "cell_type": "markdown",
      "metadata": {
        "id": "view-in-github",
        "colab_type": "text"
      },
      "source": [
        "<a href=\"https://colab.research.google.com/github/LucasMateuss/BSI/blob/master/mergedsort_lucas_jose_py.ipynb\" target=\"_parent\"><img src=\"https://colab.research.google.com/assets/colab-badge.svg\" alt=\"Open In Colab\"/></a>"
      ]
    },
    {
      "cell_type": "code",
      "execution_count": null,
      "metadata": {
        "id": "XVlyBnhCk3wa"
      },
      "outputs": [],
      "source": [
        "função mergesort(lista, inicio, fim)\n",
        "    se fim não estiver especificado, fim = tamanho da lista\n",
        "    se fim - inicio > 1 então\n",
        "        meio = (fim + inicio) // 2\n",
        "\n",
        "        // Divisão recursiva da metade esquerda\n",
        "        mergesort(lista, inicio, meio)\n",
        "\n",
        "        // Divisão recursiva da metade direita\n",
        "        mergesort(lista, meio, fim)\n",
        "\n",
        "        // Mesclando as duas metades ordenadas\n",
        "        merge(lista, inicio, meio, fim)\n",
        "\n",
        "função merge(lista, inicio, meio, fim)\n",
        "    left = lista[inicio:meio]   // Parte esquerda da lista\n",
        "    right = lista[meio:fim]     // Parte direita da lista\n",
        "    top_left = 0\n",
        "    top_right = 0\n",
        "\n",
        "    // Mesclando left e right ordenadamente\n",
        "    para k de inicio até fim\n",
        "        se top_left >= tamanho de left então\n",
        "            lista[k] = right[top_right]\n",
        "            top_right++\n",
        "        senão se top_right >= tamanho de right então\n",
        "            lista[k] = left[top_left]\n",
        "            top_left++\n",
        "        senão\n",
        "            se left[top_left] <= right[top_right] então\n",
        "                lista[k] = left[top_left]\n",
        "                top_left++\n",
        "            senão\n",
        "                lista[k] = right[top_right]\n",
        "                top_right++\n",
        "\n",
        "função execute_mergesort(dataset)\n",
        "    iniciar cronômetro\n",
        "    mergesort(dataset)\n",
        "    parar cronômetro\n",
        "\n",
        "    exibir dataset\n",
        "    exibir tempo decorrido\n",
        "    exibir número de comparações\n",
        "    exibir \"Trocas: N/A\""
      ]
    },
    {
      "cell_type": "code",
      "source": [
        "from google.colab import drive\n",
        "drive.mount('/content/drive')"
      ],
      "metadata": {
        "id": "S1bhOLfz3i6P"
      },
      "execution_count": null,
      "outputs": []
    },
    {
      "cell_type": "code",
      "source": [
        "Chamada inicial:\n",
        "mergesort([23, 4, 42, 15, 8, 16, 31, 7, 12, 19], 0, 10)\n",
        "\n",
        "Divisão recursiva:\n",
        "\n",
        "Dividindo em duas metades:\n",
        "mergesort([23, 4, 42, 15, 8], 0, 5)\n",
        "mergesort([16, 31, 7, 12, 19], 0, 5)\n",
        "\n",
        "Merge de [23, 4, 42, 15, 8]:\n",
        "\n",
        "Subdivisões recursivas:\n",
        "\n",
        "mergesort([23, 4], 0, 2)\n",
        "mergesort([42, 15, 8], 2, 5)\n",
        "\n",
        "Merge de [23, 4]:\n",
        "merge([23, 4], 0, 1, 2)\n",
        "Comparando e mesclando: [4, 23]\n",
        "\n",
        "Merge de [42, 15, 8]:\n",
        "merge([42, 15, 8], 2, 3, 5)\n",
        "Comparando e mesclando: [8, 15, 42]\n",
        "\n",
        "Merge final de [23, 4, 42, 15, 8]:\n",
        "merge([4, 8, 15, 23, 42], 0, 2, 5)\n",
        "Comparando e mesclando: [4, 8, 15, 23, 42]\n",
        "\n",
        "Merge de [16, 31, 7, 12, 19]:\n",
        "\n",
        "Subdivisões recursivas:\n",
        "\n",
        "mergesort([16, 31], 0, 2)\n",
        "mergesort([7, 12, 19], 2, 5)\n",
        "\n",
        "Merge de [16, 31]:\n",
        "merge([16, 31], 0, 1, 2)\n",
        "Comparando e mesclando: [16, 31]\n",
        "\n",
        "Merge de [7, 12, 19]:\n",
        "merge([7, 12, 19], 2, 3, 5)\n",
        "Comparando e mesclando: [7, 12, 19]\n",
        "\n",
        "Merge final de [16, 31, 7, 12, 19]:\n",
        "merge([7, 12, 16, 19, 31], 0, 2, 5)\n",
        "Comparando e mesclando: [7, 12, 16, 19, 31]\n",
        "\n",
        "Merge final de [23, 4, 42, 15, 8, 16, 31, 7, 12, 19]:\n",
        "merge([4, 8, 15, 23, 42, 7, 12, 16, 19, 31], 0, 5, 10)\n",
        "Comparando e mesclando: [4, 7, 8, 12, 15, 16, 19, 23, 31, 42]\n"
      ],
      "metadata": {
        "id": "RHT576u2lCpw"
      },
      "execution_count": null,
      "outputs": []
    },
    {
      "cell_type": "markdown",
      "source": [],
      "metadata": {
        "id": "xeE-GcUZlBuf"
      }
    }
  ]
}